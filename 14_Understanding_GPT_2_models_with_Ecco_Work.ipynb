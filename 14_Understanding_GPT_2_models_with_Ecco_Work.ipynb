{
 "cells": [
  {
   "cell_type": "code",
   "execution_count": null,
   "metadata": {},
   "outputs": [],
   "source": [
    "# This all runs\n",
    "\n",
    "# Run Date: Wednesday, February 01, 2023\n",
    "# Run Time: 00:00:08"
   ]
  },
  {
   "cell_type": "code",
   "execution_count": 1,
   "metadata": {},
   "outputs": [],
   "source": [
    "import time\n",
    "from datetime import date\n",
    "\n",
    "startTime = time.time()\n",
    "todaysDate = date.today()"
   ]
  },
  {
   "cell_type": "markdown",
   "metadata": {
    "id": "tUdlUusx7U-n"
   },
   "source": [
    "## Understanding transformers by making them more transparent\n",
    "\n",
    "\n",
    "The original notebook reference:\n",
    "Copyright https://www.eccox.io/\n",
    "\n",
    "The educational adaptation of the Ecco notebook:\n",
    "Copyright 2022, Denis Rothman, MIT license.\n",
    "\n",
    "This notebook is for open source educational purposes only.\n",
    "\n",
    " "
   ]
  },
  {
   "cell_type": "code",
   "execution_count": 2,
   "metadata": {
    "id": "Ii6Crs6VpXBM"
   },
   "outputs": [],
   "source": [
    "# Installing Ecco\n",
    "try:\n",
    "    import ecco\n",
    "except:\n",
    "    !pip install ecco\n",
    "    import warnings\n",
    "    warnings.filterwarnings('ignore')"
   ]
  },
  {
   "cell_type": "code",
   "execution_count": 3,
   "metadata": {
    "id": "S1tPxd2fpdYo"
   },
   "outputs": [],
   "source": [
    "import ecco\n",
    "# a) Loading a pre-trained language model. \n",
    "# b) Setting 'activations' to True tells Ecco to capture neuron activations.\n",
    "# c) distillgpt is a distilled GPT2 model. \n",
    "lm = ecco.from_pretrained('distilgpt2', activations=True)"
   ]
  },
  {
   "cell_type": "markdown",
   "metadata": {
    "id": "t91NoD-AwQFA"
   },
   "source": [
    "# Step 1A: Completing a sentence\n",
    "\n",
    "The goal of completing a sentence is to target a limited output to analyze it.\n",
    "\n",
    "`The sun rises in the ____`<br>\n",
    "\n"
   ]
  },
  {
   "cell_type": "code",
   "execution_count": 4,
   "metadata": {
    "id": "Ixn-FHcdYL_M"
   },
   "outputs": [],
   "source": [
    "text = \"The sun rises in the\""
   ]
  },
  {
   "cell_type": "markdown",
   "metadata": {
    "id": "tuYrZ55_jP9f"
   },
   "source": [
    "## Step 1B: Generating a token\n",
    "\n",
    "We now ask GPT to generate ONE token and ONE token only to zoom in its \"thinking\" process.\n"
   ]
  },
  {
   "cell_type": "code",
   "execution_count": 5,
   "metadata": {
    "colab": {
     "base_uri": "https://localhost:8080/",
     "height": 67
    },
    "id": "SOfiFpVnjNYH",
    "outputId": "a45efb2b-edcc-42a9-95e0-bc1478b14f4b"
   },
   "outputs": [
    {
     "name": "stderr",
     "output_type": "stream",
     "text": [
      "2023-02-01 19:46:33.659257: I tensorflow/core/platform/cpu_feature_guard.cc:193] This TensorFlow binary is optimized with oneAPI Deep Neural Network Library (oneDNN) to use the following CPU instructions in performance-critical operations:  AVX2 FMA\n",
      "To enable them in other operations, rebuild TensorFlow with the appropriate compiler flags.\n",
      "2023-02-01 19:46:34.355930: W tensorflow/compiler/xla/stream_executor/platform/default/dso_loader.cc:64] Could not load dynamic library 'libnvinfer.so.7'; dlerror: libnvinfer.so.7: cannot open shared object file: No such file or directory; LD_LIBRARY_PATH: /usr/local/nvidia/lib:/usr/local/nvidia/lib64\n",
      "2023-02-01 19:46:34.355989: W tensorflow/compiler/xla/stream_executor/platform/default/dso_loader.cc:64] Could not load dynamic library 'libnvinfer_plugin.so.7'; dlerror: libnvinfer_plugin.so.7: cannot open shared object file: No such file or directory; LD_LIBRARY_PATH: /usr/local/nvidia/lib:/usr/local/nvidia/lib64\n",
      "2023-02-01 19:46:34.355996: W tensorflow/compiler/tf2tensorrt/utils/py_utils.cc:38] TF-TRT Warning: Cannot dlopen some TensorRT libraries. If you would like to use Nvidia GPU with TensorRT, please make sure the missing libraries mentioned above are installed properly.\n"
     ]
    },
    {
     "data": {
      "text/html": [
       "<html lang=\"en\">\n",
       "<script src=\"https://requirejs.org/docs/release/2.3.6/minified/require.js\"></script>\n",
       "<script>\n",
       "    var ecco_url = 'https://storage.googleapis.com/ml-intro/ecco/'\n",
       "    //var ecco_url = 'http://localhost:8000/'\n",
       "\n",
       "    if (window.ecco === undefined) window.ecco = {}\n",
       "\n",
       "    // Setup the paths of the script we'll be using\n",
       "    requirejs.config({\n",
       "        urlArgs: \"bust=\" + (new Date()).getTime(),\n",
       "        nodeRequire: require,\n",
       "        paths: {\n",
       "            d3: \"https://d3js.org/d3.v6.min\", // This is only for use in setup.html and basic.html\n",
       "            \"d3-array\": \"https://d3js.org/d3-array.v2.min\",\n",
       "            jquery: \"https://code.jquery.com/jquery-3.5.1.min\",\n",
       "            ecco: ecco_url + 'js/0.0.6/ecco-bundle.min',\n",
       "            xregexp: 'https://cdnjs.cloudflare.com/ajax/libs/xregexp/3.2.0/xregexp-all.min'\n",
       "        }\n",
       "    });\n",
       "\n",
       "    // Add the css file\n",
       "    //requirejs(['d3'],\n",
       "    //    function (d3) {\n",
       "    //        d3.select('#css').attr('href', ecco_url + 'html/styles.css')\n",
       "    //    })\n",
       "\n",
       "    console.log('Ecco initialize!!')\n",
       "\n",
       "    // returns a 'basic' object. basic.init() selects the html div we'll be\n",
       "    // rendering the html into, adds styles.css to the document.\n",
       "    define('basic', ['d3'],\n",
       "        function (d3) {\n",
       "            return {\n",
       "                init: function (viz_id = null) {\n",
       "                    if (viz_id == null) {\n",
       "                        viz_id = \"viz_\" + Math.round(Math.random() * 10000000)\n",
       "                    }\n",
       "                    // Select the div rendered below, change its id\n",
       "                    const div = d3.select('#basic').attr('id', viz_id),\n",
       "                        div_parent = d3.select('#' + viz_id).node().parentNode\n",
       "\n",
       "                    // Link to CSS file\n",
       "                    d3.select(div_parent).insert('link')\n",
       "                        .attr('rel', 'stylesheet')\n",
       "                        .attr('type', 'text/css')\n",
       "                        .attr('href', ecco_url + 'html/0.0.2/styles.css')\n",
       "\n",
       "                    return viz_id\n",
       "                }\n",
       "            }\n",
       "        }, function (err) {\n",
       "            console.log(err);\n",
       "        }\n",
       "    )\n",
       "</script>\n",
       "\n",
       "<head>\n",
       "    <link id='css' rel=\"stylesheet\" type=\"text/css\">\n",
       "</head>\n",
       "<div id=\"basic\"></div>\n"
      ],
      "text/plain": [
       "<IPython.core.display.HTML object>"
      ]
     },
     "metadata": {},
     "output_type": "display_data"
    },
    {
     "data": {
      "application/javascript": [
       "\n",
       "         requirejs( ['basic', 'ecco'], function(basic, ecco){\n",
       "            basic.init('viz_737099') // Python needs to know the viz id. Used for each output token.\n",
       "            window.ecco['viz_737099'] = new ecco.renderOutputSequence({\n",
       "                    parentDiv: 'viz_737099',\n",
       "                    data: {\"tokens\": [{\"token\": \"The\", \"is_partial\": true, \"position\": 0, \"token_id\": 464, \"type\": \"input\"}, {\"token\": \"sun\", \"is_partial\": false, \"position\": 1, \"token_id\": 4252, \"type\": \"input\"}, {\"token\": \"rises\", \"is_partial\": false, \"position\": 2, \"token_id\": 16736, \"type\": \"input\"}, {\"token\": \"in\", \"is_partial\": false, \"position\": 3, \"token_id\": 287, \"type\": \"input\"}, {\"token\": \"the\", \"is_partial\": false, \"position\": 4, \"token_id\": 262, \"type\": \"input\"}]},\n",
       "                    tokenization_config: {\"token_prefix\": \"\\u0120\", \"partial_token_prefix\": \"\"}\n",
       "            \n",
       "            })\n",
       "         }, function (err) {\n",
       "            console.log(err);\n",
       "        })\n",
       "        "
      ],
      "text/plain": [
       "<IPython.core.display.Javascript object>"
      ]
     },
     "metadata": {},
     "output_type": "display_data"
    },
    {
     "name": "stderr",
     "output_type": "stream",
     "text": [
      "Setting `pad_token_id` to `eos_token_id`:50256 for open-end generation.\n"
     ]
    },
    {
     "data": {
      "application/javascript": [
       "\n",
       "        // We don't really need these require scripts. But this is to avert\n",
       "        //this code from running before display_input_sequence which DOES require external files\n",
       "        requirejs(['basic', 'ecco'], function(basic, ecco){\n",
       "                console.log('addToken viz_id', 'viz_737099');\n",
       "                window.ecco['viz_737099'].addToken({\"token\": \"sky\", \"is_partial\": false, \"token_id\": 6766, \"position\": 5, \"type\": \"output\"})\n",
       "                window.ecco['viz_737099'].redraw()\n",
       "        })\n",
       "        "
      ],
      "text/plain": [
       "<IPython.core.display.Javascript object>"
      ]
     },
     "metadata": {},
     "output_type": "display_data"
    }
   ],
   "source": [
    "# Generate one token\n",
    "output_1 = lm.generate(text, generate=1, do_sample=False)"
   ]
  },
  {
   "cell_type": "markdown",
   "metadata": {
    "id": "9QOZmod4jm-_"
   },
   "source": [
    "**Take a minute to think about this**:  GPT-2 made a prediction based on the probability that the token was the best one. This is stochastic algorithm. Can we see the other candidates and their rankings? Yes. We can!"
   ]
  },
  {
   "cell_type": "markdown",
   "metadata": {
    "id": "EWfrjFFnkSbi"
   },
   "source": [
    "## Step 1C: Finding the other candidates\n",
    "\n",
    "We have 3 parameters to provide:\n",
    "\n",
    "1.   The **position** of the word in the sequence.The words are numbered from 0 to 5\n",
    "2.   The **layer** of the model. There are 5 layers in the model. We want to peek into the output of the last layer to get the best output.\n",
    "3.   The top output tokens, **topk=10** so that we can see the other 9 candidates.\n",
    "\n"
   ]
  },
  {
   "cell_type": "code",
   "execution_count": 6,
   "metadata": {
    "colab": {
     "base_uri": "https://localhost:8080/",
     "height": 132
    },
    "id": "JzA265wyYL4K",
    "outputId": "acd9e73b-25cc-4a72-acbc-1e3eba17806e"
   },
   "outputs": [
    {
     "data": {
      "text/html": [
       "<html lang=\"en\">\n",
       "<script src=\"https://requirejs.org/docs/release/2.3.6/minified/require.js\"></script>\n",
       "<script>\n",
       "    var ecco_url = 'https://storage.googleapis.com/ml-intro/ecco/'\n",
       "    //var ecco_url = 'http://localhost:8000/'\n",
       "\n",
       "    if (window.ecco === undefined) window.ecco = {}\n",
       "\n",
       "    // Setup the paths of the script we'll be using\n",
       "    requirejs.config({\n",
       "        urlArgs: \"bust=\" + (new Date()).getTime(),\n",
       "        nodeRequire: require,\n",
       "        paths: {\n",
       "            d3: \"https://d3js.org/d3.v6.min\", // This is only for use in setup.html and basic.html\n",
       "            \"d3-array\": \"https://d3js.org/d3-array.v2.min\",\n",
       "            jquery: \"https://code.jquery.com/jquery-3.5.1.min\",\n",
       "            ecco: ecco_url + 'js/0.0.6/ecco-bundle.min',\n",
       "            xregexp: 'https://cdnjs.cloudflare.com/ajax/libs/xregexp/3.2.0/xregexp-all.min'\n",
       "        }\n",
       "    });\n",
       "\n",
       "    // Add the css file\n",
       "    //requirejs(['d3'],\n",
       "    //    function (d3) {\n",
       "    //        d3.select('#css').attr('href', ecco_url + 'html/styles.css')\n",
       "    //    })\n",
       "\n",
       "    console.log('Ecco initialize!!')\n",
       "\n",
       "    // returns a 'basic' object. basic.init() selects the html div we'll be\n",
       "    // rendering the html into, adds styles.css to the document.\n",
       "    define('basic', ['d3'],\n",
       "        function (d3) {\n",
       "            return {\n",
       "                init: function (viz_id = null) {\n",
       "                    if (viz_id == null) {\n",
       "                        viz_id = \"viz_\" + Math.round(Math.random() * 10000000)\n",
       "                    }\n",
       "                    // Select the div rendered below, change its id\n",
       "                    const div = d3.select('#basic').attr('id', viz_id),\n",
       "                        div_parent = d3.select('#' + viz_id).node().parentNode\n",
       "\n",
       "                    // Link to CSS file\n",
       "                    d3.select(div_parent).insert('link')\n",
       "                        .attr('rel', 'stylesheet')\n",
       "                        .attr('type', 'text/css')\n",
       "                        .attr('href', ecco_url + 'html/0.0.2/styles.css')\n",
       "\n",
       "                    return viz_id\n",
       "                }\n",
       "            }\n",
       "        }, function (err) {\n",
       "            console.log(err);\n",
       "        }\n",
       "    )\n",
       "</script>\n",
       "\n",
       "<head>\n",
       "    <link id='css' rel=\"stylesheet\" type=\"text/css\">\n",
       "</head>\n",
       "<div id=\"basic\"></div>\n"
      ],
      "text/plain": [
       "<IPython.core.display.HTML object>"
      ]
     },
     "metadata": {},
     "output_type": "display_data"
    },
    {
     "data": {
      "application/javascript": [
       "\n",
       "         requirejs(['basic', 'ecco'], function(basic, ecco){\n",
       "            const viz_id = basic.init()\n",
       "\n",
       "\n",
       "            let pred = new ecco.LayerPredictions({\n",
       "                parentDiv: viz_id,\n",
       "                data:[[{\"token\": \" sky\", \"prob\": \"0.15890679\", \"ranking\": 1, \"layer\": 5}, {\"token\": \" morning\", \"prob\": \"0.046734147\", \"ranking\": 2, \"layer\": 5}, {\"token\": \" middle\", \"prob\": \"0.0414628\", \"ranking\": 3, \"layer\": 5}, {\"token\": \" air\", \"prob\": \"0.02947542\", \"ranking\": 4, \"layer\": 5}, {\"token\": \" sun\", \"prob\": \"0.0278757\", \"ranking\": 5, \"layer\": 5}, {\"token\": \" night\", \"prob\": \"0.024289329\", \"ranking\": 6, \"layer\": 5}, {\"token\": \" distance\", \"prob\": \"0.0184909\", \"ranking\": 7, \"layer\": 5}, {\"token\": \" afternoon\", \"prob\": \"0.017348938\", \"ranking\": 8, \"layer\": 5}, {\"token\": \" evening\", \"prob\": \"0.0171656\", \"ranking\": 9, \"layer\": 5}, {\"token\": \" mountains\", \"prob\": \"0.0118837785\", \"ranking\": 10, \"layer\": 5}]]\n",
       "            })\n",
       "            pred.init()\n",
       "         }, function (err) {\n",
       "            console.log(viz_id, err);\n",
       "        })"
      ],
      "text/plain": [
       "<IPython.core.display.Javascript object>"
      ]
     },
     "metadata": {},
     "output_type": "display_data"
    }
   ],
   "source": [
    "output_1.layer_predictions(position=5, layer=5, topk=10)"
   ]
  },
  {
   "cell_type": "markdown",
   "metadata": {
    "id": "MIM46dIdI-EU"
   },
   "source": [
    "We can see that the #1 candidate in this case was \"sky\" but that other candicates were possible. GPT chose \"sky\" because of it's frequency in the training corpus."
   ]
  },
  {
   "cell_type": "markdown",
   "metadata": {
    "id": "T96DI4wF73fk"
   },
   "source": [
    "# Step 2A: Exploring World Knowledge\n",
    "\n",
    "What does GPT know about the world around it?\n",
    "Does the model \"know\" where Opera Garnier(Paris) is located? To probe the model, we let's try the input sentence: \n",
    "\n",
    "`The Opera Garnier is located in ____`\n",
    "\n",
    "We set **generate=5** to let GPT generate a meaningful output."
   ]
  },
  {
   "cell_type": "code",
   "execution_count": 7,
   "metadata": {
    "colab": {
     "base_uri": "https://localhost:8080/",
     "height": 67
    },
    "id": "e2V8ARTEsF6B",
    "outputId": "8cb5d62f-a036-4bef-95bb-b6934511a36e"
   },
   "outputs": [
    {
     "data": {
      "text/html": [
       "<html lang=\"en\">\n",
       "<script src=\"https://requirejs.org/docs/release/2.3.6/minified/require.js\"></script>\n",
       "<script>\n",
       "    var ecco_url = 'https://storage.googleapis.com/ml-intro/ecco/'\n",
       "    //var ecco_url = 'http://localhost:8000/'\n",
       "\n",
       "    if (window.ecco === undefined) window.ecco = {}\n",
       "\n",
       "    // Setup the paths of the script we'll be using\n",
       "    requirejs.config({\n",
       "        urlArgs: \"bust=\" + (new Date()).getTime(),\n",
       "        nodeRequire: require,\n",
       "        paths: {\n",
       "            d3: \"https://d3js.org/d3.v6.min\", // This is only for use in setup.html and basic.html\n",
       "            \"d3-array\": \"https://d3js.org/d3-array.v2.min\",\n",
       "            jquery: \"https://code.jquery.com/jquery-3.5.1.min\",\n",
       "            ecco: ecco_url + 'js/0.0.6/ecco-bundle.min',\n",
       "            xregexp: 'https://cdnjs.cloudflare.com/ajax/libs/xregexp/3.2.0/xregexp-all.min'\n",
       "        }\n",
       "    });\n",
       "\n",
       "    // Add the css file\n",
       "    //requirejs(['d3'],\n",
       "    //    function (d3) {\n",
       "    //        d3.select('#css').attr('href', ecco_url + 'html/styles.css')\n",
       "    //    })\n",
       "\n",
       "    console.log('Ecco initialize!!')\n",
       "\n",
       "    // returns a 'basic' object. basic.init() selects the html div we'll be\n",
       "    // rendering the html into, adds styles.css to the document.\n",
       "    define('basic', ['d3'],\n",
       "        function (d3) {\n",
       "            return {\n",
       "                init: function (viz_id = null) {\n",
       "                    if (viz_id == null) {\n",
       "                        viz_id = \"viz_\" + Math.round(Math.random() * 10000000)\n",
       "                    }\n",
       "                    // Select the div rendered below, change its id\n",
       "                    const div = d3.select('#basic').attr('id', viz_id),\n",
       "                        div_parent = d3.select('#' + viz_id).node().parentNode\n",
       "\n",
       "                    // Link to CSS file\n",
       "                    d3.select(div_parent).insert('link')\n",
       "                        .attr('rel', 'stylesheet')\n",
       "                        .attr('type', 'text/css')\n",
       "                        .attr('href', ecco_url + 'html/0.0.2/styles.css')\n",
       "\n",
       "                    return viz_id\n",
       "                }\n",
       "            }\n",
       "        }, function (err) {\n",
       "            console.log(err);\n",
       "        }\n",
       "    )\n",
       "</script>\n",
       "\n",
       "<head>\n",
       "    <link id='css' rel=\"stylesheet\" type=\"text/css\">\n",
       "</head>\n",
       "<div id=\"basic\"></div>\n"
      ],
      "text/plain": [
       "<IPython.core.display.HTML object>"
      ]
     },
     "metadata": {},
     "output_type": "display_data"
    },
    {
     "data": {
      "application/javascript": [
       "\n",
       "         requirejs( ['basic', 'ecco'], function(basic, ecco){\n",
       "            basic.init('viz_354532') // Python needs to know the viz id. Used for each output token.\n",
       "            window.ecco['viz_354532'] = new ecco.renderOutputSequence({\n",
       "                    parentDiv: 'viz_354532',\n",
       "                    data: {\"tokens\": [{\"token\": \"The\", \"is_partial\": true, \"position\": 0, \"token_id\": 464, \"type\": \"input\"}, {\"token\": \"Opera\", \"is_partial\": false, \"position\": 1, \"token_id\": 26049, \"type\": \"input\"}, {\"token\": \"Garn\", \"is_partial\": false, \"position\": 2, \"token_id\": 30937, \"type\": \"input\"}, {\"token\": \"ier\", \"is_partial\": true, \"position\": 3, \"token_id\": 959, \"type\": \"input\"}, {\"token\": \"is\", \"is_partial\": false, \"position\": 4, \"token_id\": 318, \"type\": \"input\"}, {\"token\": \"located\", \"is_partial\": false, \"position\": 5, \"token_id\": 5140, \"type\": \"input\"}, {\"token\": \"in\", \"is_partial\": false, \"position\": 6, \"token_id\": 287, \"type\": \"input\"}]},\n",
       "                    tokenization_config: {\"token_prefix\": \"\\u0120\", \"partial_token_prefix\": \"\"}\n",
       "            \n",
       "            })\n",
       "         }, function (err) {\n",
       "            console.log(err);\n",
       "        })\n",
       "        "
      ],
      "text/plain": [
       "<IPython.core.display.Javascript object>"
      ]
     },
     "metadata": {},
     "output_type": "display_data"
    },
    {
     "name": "stderr",
     "output_type": "stream",
     "text": [
      "Setting `pad_token_id` to `eos_token_id`:50256 for open-end generation.\n"
     ]
    },
    {
     "data": {
      "application/javascript": [
       "\n",
       "        // We don't really need these require scripts. But this is to avert\n",
       "        //this code from running before display_input_sequence which DOES require external files\n",
       "        requirejs(['basic', 'ecco'], function(basic, ecco){\n",
       "                console.log('addToken viz_id', 'viz_354532');\n",
       "                window.ecco['viz_354532'].addToken({\"token\": \"the\", \"is_partial\": false, \"token_id\": 262, \"position\": 7, \"type\": \"output\"})\n",
       "                window.ecco['viz_354532'].redraw()\n",
       "        })\n",
       "        "
      ],
      "text/plain": [
       "<IPython.core.display.Javascript object>"
      ]
     },
     "metadata": {},
     "output_type": "display_data"
    },
    {
     "data": {
      "application/javascript": [
       "\n",
       "        // We don't really need these require scripts. But this is to avert\n",
       "        //this code from running before display_input_sequence which DOES require external files\n",
       "        requirejs(['basic', 'ecco'], function(basic, ecco){\n",
       "                console.log('addToken viz_id', 'viz_354532');\n",
       "                window.ecco['viz_354532'].addToken({\"token\": \"city\", \"is_partial\": false, \"token_id\": 1748, \"position\": 8, \"type\": \"output\"})\n",
       "                window.ecco['viz_354532'].redraw()\n",
       "        })\n",
       "        "
      ],
      "text/plain": [
       "<IPython.core.display.Javascript object>"
      ]
     },
     "metadata": {},
     "output_type": "display_data"
    },
    {
     "data": {
      "application/javascript": [
       "\n",
       "        // We don't really need these require scripts. But this is to avert\n",
       "        //this code from running before display_input_sequence which DOES require external files\n",
       "        requirejs(['basic', 'ecco'], function(basic, ecco){\n",
       "                console.log('addToken viz_id', 'viz_354532');\n",
       "                window.ecco['viz_354532'].addToken({\"token\": \"centre\", \"is_partial\": false, \"token_id\": 7372, \"position\": 9, \"type\": \"output\"})\n",
       "                window.ecco['viz_354532'].redraw()\n",
       "        })\n",
       "        "
      ],
      "text/plain": [
       "<IPython.core.display.Javascript object>"
      ]
     },
     "metadata": {},
     "output_type": "display_data"
    },
    {
     "data": {
      "application/javascript": [
       "\n",
       "        // We don't really need these require scripts. But this is to avert\n",
       "        //this code from running before display_input_sequence which DOES require external files\n",
       "        requirejs(['basic', 'ecco'], function(basic, ecco){\n",
       "                console.log('addToken viz_id', 'viz_354532');\n",
       "                window.ecco['viz_354532'].addToken({\"token\": \"of\", \"is_partial\": false, \"token_id\": 286, \"position\": 10, \"type\": \"output\"})\n",
       "                window.ecco['viz_354532'].redraw()\n",
       "        })\n",
       "        "
      ],
      "text/plain": [
       "<IPython.core.display.Javascript object>"
      ]
     },
     "metadata": {},
     "output_type": "display_data"
    },
    {
     "data": {
      "application/javascript": [
       "\n",
       "        // We don't really need these require scripts. But this is to avert\n",
       "        //this code from running before display_input_sequence which DOES require external files\n",
       "        requirejs(['basic', 'ecco'], function(basic, ecco){\n",
       "                console.log('addToken viz_id', 'viz_354532');\n",
       "                window.ecco['viz_354532'].addToken({\"token\": \"Paris\", \"is_partial\": false, \"token_id\": 6342, \"position\": 11, \"type\": \"output\"})\n",
       "                window.ecco['viz_354532'].redraw()\n",
       "        })\n",
       "        "
      ],
      "text/plain": [
       "<IPython.core.display.Javascript object>"
      ]
     },
     "metadata": {},
     "output_type": "display_data"
    }
   ],
   "source": [
    "text = \"The Opera Garnier is located in\"\n",
    "output_2 = lm.generate(text, generate=5, do_sample=False)"
   ]
  },
  {
   "cell_type": "markdown",
   "metadata": {
    "id": "NAThuz1Mu8AE"
   },
   "source": [
    "## Step 2B: Finding the other candidates\n",
    "\n",
    "When a transformer reaches the final output layer, there is more than one possible candidate. \n"
   ]
  },
  {
   "cell_type": "markdown",
   "metadata": {
    "id": "Lq-gBJPWvE0Y"
   },
   "source": [
    "\n",
    "Note:The model is stochastic. You might obtain different results from one run to another. Look at the postion above the word you want to explore."
   ]
  },
  {
   "cell_type": "markdown",
   "metadata": {
    "id": "vQNtaQcnvcHR"
   },
   "source": [
    "The goal is to see the other candidates and their rankings.\n",
    "\n",
    "**position=11** is the position of \"Paris\" in the sequence generated in Step2A. <br>\n",
    "\n",
    "**layer=5** because it is the last layer.<br>\n",
    "\n",
    "**topk=30** so that we can see the top 30 possibilities(tokens) and their probablity (under the token).\n"
   ]
  },
  {
   "cell_type": "code",
   "execution_count": 8,
   "metadata": {
    "colab": {
     "base_uri": "https://localhost:8080/",
     "height": 264
    },
    "id": "Ws7tKJ_K8Wcg",
    "outputId": "fc6db1dc-9e06-4099-b195-fcd5ee2e628a"
   },
   "outputs": [
    {
     "data": {
      "text/html": [
       "<html lang=\"en\">\n",
       "<script src=\"https://requirejs.org/docs/release/2.3.6/minified/require.js\"></script>\n",
       "<script>\n",
       "    var ecco_url = 'https://storage.googleapis.com/ml-intro/ecco/'\n",
       "    //var ecco_url = 'http://localhost:8000/'\n",
       "\n",
       "    if (window.ecco === undefined) window.ecco = {}\n",
       "\n",
       "    // Setup the paths of the script we'll be using\n",
       "    requirejs.config({\n",
       "        urlArgs: \"bust=\" + (new Date()).getTime(),\n",
       "        nodeRequire: require,\n",
       "        paths: {\n",
       "            d3: \"https://d3js.org/d3.v6.min\", // This is only for use in setup.html and basic.html\n",
       "            \"d3-array\": \"https://d3js.org/d3-array.v2.min\",\n",
       "            jquery: \"https://code.jquery.com/jquery-3.5.1.min\",\n",
       "            ecco: ecco_url + 'js/0.0.6/ecco-bundle.min',\n",
       "            xregexp: 'https://cdnjs.cloudflare.com/ajax/libs/xregexp/3.2.0/xregexp-all.min'\n",
       "        }\n",
       "    });\n",
       "\n",
       "    // Add the css file\n",
       "    //requirejs(['d3'],\n",
       "    //    function (d3) {\n",
       "    //        d3.select('#css').attr('href', ecco_url + 'html/styles.css')\n",
       "    //    })\n",
       "\n",
       "    console.log('Ecco initialize!!')\n",
       "\n",
       "    // returns a 'basic' object. basic.init() selects the html div we'll be\n",
       "    // rendering the html into, adds styles.css to the document.\n",
       "    define('basic', ['d3'],\n",
       "        function (d3) {\n",
       "            return {\n",
       "                init: function (viz_id = null) {\n",
       "                    if (viz_id == null) {\n",
       "                        viz_id = \"viz_\" + Math.round(Math.random() * 10000000)\n",
       "                    }\n",
       "                    // Select the div rendered below, change its id\n",
       "                    const div = d3.select('#basic').attr('id', viz_id),\n",
       "                        div_parent = d3.select('#' + viz_id).node().parentNode\n",
       "\n",
       "                    // Link to CSS file\n",
       "                    d3.select(div_parent).insert('link')\n",
       "                        .attr('rel', 'stylesheet')\n",
       "                        .attr('type', 'text/css')\n",
       "                        .attr('href', ecco_url + 'html/0.0.2/styles.css')\n",
       "\n",
       "                    return viz_id\n",
       "                }\n",
       "            }\n",
       "        }, function (err) {\n",
       "            console.log(err);\n",
       "        }\n",
       "    )\n",
       "</script>\n",
       "\n",
       "<head>\n",
       "    <link id='css' rel=\"stylesheet\" type=\"text/css\">\n",
       "</head>\n",
       "<div id=\"basic\"></div>\n"
      ],
      "text/plain": [
       "<IPython.core.display.HTML object>"
      ]
     },
     "metadata": {},
     "output_type": "display_data"
    },
    {
     "data": {
      "application/javascript": [
       "\n",
       "         requirejs(['basic', 'ecco'], function(basic, ecco){\n",
       "            const viz_id = basic.init()\n",
       "\n",
       "\n",
       "            let pred = new ecco.LayerPredictions({\n",
       "                parentDiv: viz_id,\n",
       "                data:[[{\"token\": \" Paris\", \"prob\": \"0.04160455\", \"ranking\": 1, \"layer\": 5}, {\"token\": \" the\", \"prob\": \"0.032287646\", \"ranking\": 2, \"layer\": 5}, {\"token\": \" London\", \"prob\": \"0.025595859\", \"ranking\": 3, \"layer\": 5}, {\"token\": \" St\", \"prob\": \"0.015997024\", \"ranking\": 4, \"layer\": 5}, {\"token\": \" New\", \"prob\": \"0.014132411\", \"ranking\": 5, \"layer\": 5}, {\"token\": \" T\", \"prob\": \"0.01337545\", \"ranking\": 6, \"layer\": 5}, {\"token\": \" Berlin\", \"prob\": \"0.012919696\", \"ranking\": 7, \"layer\": 5}, {\"token\": \" Port\", \"prob\": \"0.012297999\", \"ranking\": 8, \"layer\": 5}, {\"token\": \" G\", \"prob\": \"0.011382384\", \"ranking\": 9, \"layer\": 5}, {\"token\": \" B\", \"prob\": \"0.01097179\", \"ranking\": 10, \"layer\": 5}, {\"token\": \" S\", \"prob\": \"0.009638019\", \"ranking\": 11, \"layer\": 5}, {\"token\": \" Melbourne\", \"prob\": \"0.0092763975\", \"ranking\": 12, \"layer\": 5}, {\"token\": \" L\", \"prob\": \"0.00906075\", \"ranking\": 13, \"layer\": 5}, {\"token\": \" Sydney\", \"prob\": \"0.008940852\", \"ranking\": 14, \"layer\": 5}, {\"token\": \" Amsterdam\", \"prob\": \"0.008055723\", \"ranking\": 15, \"layer\": 5}, {\"token\": \" Copenhagen\", \"prob\": \"0.007809007\", \"ranking\": 16, \"layer\": 5}, {\"token\": \" Barcelona\", \"prob\": \"0.0077405856\", \"ranking\": 17, \"layer\": 5}, {\"token\": \" D\", \"prob\": \"0.0077329706\", \"ranking\": 18, \"layer\": 5}, {\"token\": \" N\", \"prob\": \"0.006895447\", \"ranking\": 19, \"layer\": 5}, {\"token\": \" P\", \"prob\": \"0.006524918\", \"ranking\": 20, \"layer\": 5}, {\"token\": \" San\", \"prob\": \"0.0062069125\", \"ranking\": 21, \"layer\": 5}, {\"token\": \" Le\", \"prob\": \"0.006031433\", \"ranking\": 22, \"layer\": 5}, {\"token\": \" Cologne\", \"prob\": \"0.0057009994\", \"ranking\": 23, \"layer\": 5}, {\"token\": \" V\", \"prob\": \"0.005587044\", \"ranking\": 24, \"layer\": 5}, {\"token\": \" Munich\", \"prob\": \"0.005557392\", \"ranking\": 25, \"layer\": 5}, {\"token\": \" Milan\", \"prob\": \"0.00547165\", \"ranking\": 26, \"layer\": 5}, {\"token\": \" C\", \"prob\": \"0.005172634\", \"ranking\": 27, \"layer\": 5}, {\"token\": \" Rome\", \"prob\": \"0.004771839\", \"ranking\": 28, \"layer\": 5}, {\"token\": \" Mont\", \"prob\": \"0.0045813364\", \"ranking\": 29, \"layer\": 5}, {\"token\": \" Manchester\", \"prob\": \"0.004551636\", \"ranking\": 30, \"layer\": 5}]]\n",
       "            })\n",
       "            pred.init()\n",
       "         }, function (err) {\n",
       "            console.log(viz_id, err);\n",
       "        })"
      ],
      "text/plain": [
       "<IPython.core.display.Javascript object>"
      ]
     },
     "metadata": {},
     "output_type": "display_data"
    }
   ],
   "source": [
    "output_2.layer_predictions(position=11, layer=5, topk=30)"
   ]
  },
  {
   "cell_type": "markdown",
   "metadata": {
    "id": "1PivCz0QwNBj"
   },
   "source": [
    "Notice how many other cities and tokens were candidates! "
   ]
  },
  {
   "cell_type": "markdown",
   "metadata": {
    "id": "4DUI5iFUwY2H"
   },
   "source": [
    "## Step 2C: Seeing how the tokens made their way through the layers\n",
    "\n",
    "Stochastic models could easily choose another candidate.\n",
    "\n",
    "Let's see how the output tokens found their way through the layers.\n",
    "\n"
   ]
  },
  {
   "cell_type": "code",
   "execution_count": 9,
   "metadata": {
    "colab": {
     "base_uri": "https://localhost:8080/",
     "height": 312
    },
    "id": "HrkMe1rI8kCF",
    "outputId": "1855e51b-7e02-49d5-d856-ee4b9d0d2513"
   },
   "outputs": [
    {
     "name": "stderr",
     "output_type": "stream",
     "text": [
      "/usr/local/lib/python3.8/dist-packages/ecco/output.py:469: UserWarning: To copy construct from a tensor, it is recommended to use sourceTensor.clone().detach() or sourceTensor.clone().detach().requires_grad_(True), rather than torch.tensor(sourceTensor).\n",
      "  token_id = torch.tensor(self.token_ids[0][offset + j])\n"
     ]
    },
    {
     "data": {
      "image/png": "[encoded data removed]",
      "text/plain": [
       "<Figure size 550x340 with 3 Axes>"
      ]
     },
     "metadata": {},
     "output_type": "display_data"
    }
   ],
   "source": [
    "output_2.rankings()"
   ]
  },
  {
   "cell_type": "markdown",
   "metadata": {
    "id": "1huI3m7by0kR"
   },
   "source": [
    "Note the following points:\n",
    "\n",
    "\n",
    "1.   The layers go from 0 to 5 (from top to bottom)\n",
    "2.   A simple article such as \"the\" quickly reaches rank 1. It is easy to find. The simple word \"of\" makes it rather quickly to the top.\n",
    "3.   However, Notice that \"city\" and the other words only reached the correct values at layer 5. \n",
    "\n",
    "\n",
    "\n",
    "\n",
    "\n"
   ]
  },
  {
   "cell_type": "code",
   "execution_count": 10,
   "metadata": {},
   "outputs": [
    {
     "name": "stdout",
     "output_type": "stream",
     "text": [
      "# Run Date: Wednesday, February 01, 2023\n",
      "# Run Time: 00:00:08\n"
     ]
    }
   ],
   "source": [
    "endTime = time.time()\n",
    "elapsedTime = time.strftime(\"%H:%M:%S\", time.gmtime(endTime - startTime))\n",
    "\n",
    "print(todaysDate.strftime('# Run Date: %A, %B %d, %Y'))\n",
    "print(f\"# Run Time: {elapsedTime}\")"
   ]
  }
 ],
 "metadata": {
  "colab": {
   "collapsed_sections": [],
   "name": "Understanding GPT-2 models with Ecco.ipynb",
   "provenance": [],
   "toc_visible": true
  },
  "kernelspec": {
   "display_name": "Python 3 (ipykernel)",
   "language": "python",
   "name": "python3"
  },
  "language_info": {
   "codemirror_mode": {
    "name": "ipython",
    "version": 3
   },
   "file_extension": ".py",
   "mimetype": "text/x-python",
   "name": "python",
   "nbconvert_exporter": "python",
   "pygments_lexer": "ipython3",
   "version": "3.8.10"
  }
 },
 "nbformat": 4,
 "nbformat_minor": 4
}
