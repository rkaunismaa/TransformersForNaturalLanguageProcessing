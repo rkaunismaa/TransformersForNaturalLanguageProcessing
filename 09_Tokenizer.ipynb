{
  "nbformat": 4,
  "nbformat_minor": 0,
  "metadata": {
    "colab": {
      "name": "Tokenizer.ipynb",
      "provenance": [],
      "collapsed_sections": [],
      "machine_shape": "hm",
      "toc_visible": true
    },
    "kernelspec": {
      "name": "python3",
      "display_name": "Python 3"
    },
    "accelerator": "GPU"
  },
  "cells": [
    {
      "cell_type": "markdown",
      "metadata": {
        "id": "7fjcTlyE3WvR"
      },
      "source": [
        "#Tokenizers\n",
        "Copyright 2021,2022 Denis Rothman, MIT License\n",
        "\n",
        "Reference 1 for word embedding:\n",
        "https://www.geeksforgeeks.org/python-word-embedding-using-word2vec/\n",
        "\n",
        "Reference 2 for cosine similarity:\n",
        "SciKit Learn cosine similarity documentation\n",
        "\n",
        "***Upload text.txt before running the Notebook***"
      ]
    },
    {
      "cell_type": "markdown",
      "source": [
        "#Pre-Requisistes"
      ],
      "metadata": {
        "id": "JV6bzj6-BelA"
      }
    },
    {
      "cell_type": "code",
      "metadata": {
        "id": "JKJ8Saf6vR9b"
      },
      "source": [
        "#@title Pre-Requisistes\n",
        "!pip install gensim==3.8.3\n",
        "import nltk\n",
        "nltk.download('punkt')"
      ],
      "execution_count": null,
      "outputs": []
    },
    {
      "cell_type": "code",
      "metadata": {
        "id": "7o7EeDUUu0Sh"
      },
      "source": [
        "import math\n",
        "import numpy as np\n",
        "from nltk.tokenize import sent_tokenize, word_tokenize \n",
        "import gensim \n",
        "from gensim.models import Word2Vec \n",
        "import numpy as np\n",
        "from sklearn.metrics.pairwise import cosine_similarity\n",
        "import matplotlib.pyplot as plt\n",
        "import warnings \n",
        "warnings.filterwarnings(action = 'ignore') "
      ],
      "execution_count": null,
      "outputs": []
    },
    {
      "cell_type": "markdown",
      "source": [
        "#Word2Vec Tokenization"
      ],
      "metadata": {
        "id": "Bk0LxtnfBgqx"
      }
    },
    {
      "cell_type": "code",
      "metadata": {
        "id": "1NRomrXEJOxJ",
        "colab": {
          "base_uri": "https://localhost:8080/"
        },
        "outputId": "76407b05-1c34-4bfe-e143-a78f32eaa192"
      },
      "source": [
        "#@title Word2Vec Tokenization\n",
        "#‘text.txt’ file \n",
        "sample = open(\"text.txt\", \"r\") \n",
        "s = sample.read() \n",
        "\n",
        "# processing escape characters \n",
        "f = s.replace(\"\\n\", \" \") \n",
        "\n",
        "data = [] \n",
        "# sentence parsing\n",
        "for i in sent_tokenize(f): \n",
        "\ttemp = [] \n",
        "\t# tokenize the sentence into words \n",
        "\tfor j in word_tokenize(i): \n",
        "\t\ttemp.append(j.lower())\n",
        "\tdata.append(temp)\n",
        "\n",
        "# Creating Skip Gram model \n",
        "model2 = gensim.models.Word2Vec(data, min_count = 1, size = 512,window = 5, sg = 1) \n",
        "print(model2)"
      ],
      "execution_count": null,
      "outputs": [
        {
          "output_type": "stream",
          "name": "stdout",
          "text": [
            "Word2Vec(vocab=10816, size=512, alpha=0.025)\n"
          ]
        }
      ]
    },
    {
      "cell_type": "markdown",
      "source": [
        "#Cosine Similarity"
      ],
      "metadata": {
        "id": "caCHjrHxBiXu"
      }
    },
    {
      "cell_type": "code",
      "metadata": {
        "id": "YcC_3JLcJTgw"
      },
      "source": [
        "#@title Cosine Similarity\n",
        "def similarity(word1,word2):\n",
        "        cosine=False #default value\n",
        "        try:\n",
        "                a=model2[word1]\n",
        "                cosine=True\n",
        "        except KeyError:     #The KeyError exception is raised\n",
        "                print(word1, \":[unk] key not found in dictionary\")#False implied\n",
        "\n",
        "        try:\n",
        "                b=model2[word2]#a=True implied\n",
        "        except KeyError:       #The KeyError exception is raised\n",
        "                cosine=False   #both a and b must be true\n",
        "                print(word2, \":[unk] key not found in dictionary\")\n",
        "\n",
        "        if(cosine==True):\n",
        "                b=model2[word2]\n",
        "                # compute cosine similarity\n",
        "                dot = np.dot(a, b)\n",
        "                norma = np.linalg.norm(a)\n",
        "                normb = np.linalg.norm(b)\n",
        "                cos = dot / (norma * normb)\n",
        "\n",
        "                aa = a.reshape(1,512) \n",
        "                ba = b.reshape(1,512)\n",
        "                #print(\"Word1\",aa)\n",
        "                #print(\"Word2\",ba)\n",
        "                cos_lib = cosine_similarity(aa, ba)\n",
        "                #print(cos_lib,\"word similarity\")\n",
        "          \n",
        "        if(cosine==False):cos_lib=0;\n",
        "        return cos_lib"
      ],
      "execution_count": null,
      "outputs": []
    },
    {
      "cell_type": "markdown",
      "source": [
        "#Case 0: Words in the dataset and the dictionary"
      ],
      "metadata": {
        "id": "BG8ANf4iAwqy"
      }
    },
    {
      "cell_type": "code",
      "metadata": {
        "id": "fMfgbogHJVh-",
        "colab": {
          "base_uri": "https://localhost:8080/"
        },
        "outputId": "e63aca68-def1-4e5a-ab4f-c933e94c7e37"
      },
      "source": [
        "#@title Case 0: Words in text and dictionary\n",
        "word1=\"freedom\";word2=\"liberty\"\n",
        "print(\"Similarity\",similarity(word1,word2),word1,word2)"
      ],
      "execution_count": null,
      "outputs": [
        {
          "output_type": "stream",
          "name": "stdout",
          "text": [
            "Similarity [[0.8010981]] freedom liberty\n"
          ]
        }
      ]
    },
    {
      "cell_type": "markdown",
      "source": [
        "#Case 1: Words not in the dataset or the dictionary"
      ],
      "metadata": {
        "id": "EpjN79c2Ay-g"
      }
    },
    {
      "cell_type": "code",
      "metadata": {
        "id": "4B7vvKxOLbYC",
        "colab": {
          "base_uri": "https://localhost:8080/"
        },
        "outputId": "a3371748-e482-42bb-ec6c-fba1da74a977"
      },
      "source": [
        "#@title Word(s) Case 1: Word not in text or dictionary\n",
        "word1=\"corporations\";word2=\"rights\"\n",
        "print(\"Similarity\",similarity(word1,word2),word1,word2)"
      ],
      "execution_count": null,
      "outputs": [
        {
          "output_type": "stream",
          "name": "stdout",
          "text": [
            "corporations :[unk] key not found in dictionary\n",
            "Similarity 0 corporations rights\n"
          ]
        }
      ]
    },
    {
      "cell_type": "markdown",
      "source": [
        "#Case 2: Noisy Relationship"
      ],
      "metadata": {
        "id": "BEA37lv5AuSS"
      }
    },
    {
      "cell_type": "code",
      "metadata": {
        "id": "qkFIC79JCQJp",
        "colab": {
          "base_uri": "https://localhost:8080/"
        },
        "outputId": "a3eaf824-5d9e-4e3a-ec3c-8fbf8e8e1622"
      },
      "source": [
        "#@title Case 2: Noisy Relationship \n",
        "word1=\"etext\";word2=\"declaration\"\n",
        "print(\"Similarity\",similarity(word1,word2),word1,word2)"
      ],
      "execution_count": null,
      "outputs": [
        {
          "output_type": "stream",
          "name": "stdout",
          "text": [
            "Similarity [[0.9052981]] etext declaration\n"
          ]
        }
      ]
    },
    {
      "cell_type": "markdown",
      "source": [
        "#Case 3: Words in the text but not in the dictionary"
      ],
      "metadata": {
        "id": "E7Jbj4PvBKiY"
      }
    },
    {
      "cell_type": "code",
      "metadata": {
        "id": "16uvrkFODNjv",
        "colab": {
          "base_uri": "https://localhost:8080/"
        },
        "outputId": "69df8db7-138a-43a4-d365-275e8ed18dcd"
      },
      "source": [
        "#@title Case 3: word in text, not in dictionary\n",
        "word1=\"pie\";word2=\"logic\"\n",
        "print(\"Similarity\",similarity(word1,word2),word1,word2)"
      ],
      "execution_count": null,
      "outputs": [
        {
          "output_type": "stream",
          "name": "stdout",
          "text": [
            "pie :[unk] key not found in dictionary\n",
            "Similarity 0 pie logic\n"
          ]
        }
      ]
    },
    {
      "cell_type": "markdown",
      "source": [
        "#Case 4: Rare words"
      ],
      "metadata": {
        "id": "1-c3wayoBNSm"
      }
    },
    {
      "cell_type": "code",
      "metadata": {
        "id": "mKVPiEi-GZtf",
        "colab": {
          "base_uri": "https://localhost:8080/"
        },
        "outputId": "69ec4009-8ec4-4892-c8a4-5489a081f961"
      },
      "source": [
        "#@title Case 4: Rare words\n",
        "word1=\"justiciar\";word2=\"judgement\"\n",
        "print(\"Similarity\",similarity(word1,word2),word1,word2)"
      ],
      "execution_count": null,
      "outputs": [
        {
          "output_type": "stream",
          "name": "stdout",
          "text": [
            "Similarity [[0.6612152]] justiciar judgement\n"
          ]
        }
      ]
    },
    {
      "cell_type": "markdown",
      "source": [
        "#Case 5: Replacing rare words"
      ],
      "metadata": {
        "id": "8z197XkNBO07"
      }
    },
    {
      "cell_type": "code",
      "metadata": {
        "id": "0xZtAm3DHGJg",
        "colab": {
          "base_uri": "https://localhost:8080/"
        },
        "outputId": "7d70a9c7-3efa-4dab-a090-074a58b72149"
      },
      "source": [
        "#@title Case 5: Replacing rare words\n",
        "word1=\"judge\";word2=\"judgement\"\n",
        "print(\"Similarity\",similarity(word1,word2),word1,word2)"
      ],
      "execution_count": null,
      "outputs": [
        {
          "output_type": "stream",
          "name": "stdout",
          "text": [
            "Similarity [[0.7046789]] judge judgement\n"
          ]
        }
      ]
    },
    {
      "cell_type": "markdown",
      "source": [
        "#Case 6: Entailment"
      ],
      "metadata": {
        "id": "di4xu5j5BPGO"
      }
    },
    {
      "cell_type": "code",
      "metadata": {
        "id": "wOSID8kXHXWt",
        "colab": {
          "base_uri": "https://localhost:8080/"
        },
        "outputId": "8a8a5c75-58fb-4459-f4e7-c23fd6fee514"
      },
      "source": [
        "#@title Case 6: Entailment\n",
        "word1=\"pay\";word2=\"debt\"\n",
        "print(\"Similarity\",similarity(word1,word2),word1,word2)"
      ],
      "execution_count": null,
      "outputs": [
        {
          "output_type": "stream",
          "name": "stdout",
          "text": [
            "Similarity [[0.9040462]] pay debt\n"
          ]
        }
      ]
    }
  ]
}